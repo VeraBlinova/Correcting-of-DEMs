{
 "cells": [
  {
   "cell_type": "code",
   "execution_count": 1,
   "metadata": {},
   "outputs": [],
   "source": [
    "import ogr, gdal\n",
    "import numpy as np\n",
    "import os"
   ]
  },
  {
   "cell_type": "code",
   "execution_count": 22,
   "metadata": {},
   "outputs": [],
   "source": [
    "\n",
    "polygon_fn = 'saves/buf_0.shp'\n",
    "\n",
    "# Define pixel_size which equals distance betweens points\n",
    "pixel_size = 1\n",
    "\n",
    "# Open the data source and read in the extent\n",
    "source_ds = ogr.Open(polygon_fn)\n",
    "source_layer = source_ds.GetLayer()\n",
    "x_min, x_max, y_min, y_max = source_layer.GetExtent()"
   ]
  },
  {
   "cell_type": "code",
   "execution_count": 23,
   "metadata": {},
   "outputs": [
    {
     "data": {
      "text/plain": [
       "0"
      ]
     },
     "execution_count": 23,
     "metadata": {},
     "output_type": "execute_result"
    }
   ],
   "source": [
    "\n",
    "# Create the destination data source\n",
    "x_res = int((x_max - x_min) / pixel_size)\n",
    "y_res = int((y_max - y_min) / pixel_size)\n",
    "target_ds = gdal.GetDriverByName('GTiff').Create('temp.tif', x_res, y_res, gdal.GDT_Byte)\n",
    "target_ds.SetGeoTransform((x_min, pixel_size, 0, y_max, 0, -pixel_size))\n",
    "band = target_ds.GetRasterBand(1)\n",
    "band.SetNoDataValue(255)"
   ]
  },
  {
   "cell_type": "code",
   "execution_count": 24,
   "metadata": {},
   "outputs": [],
   "source": [
    "\n",
    "\n",
    "# Rasterize\n",
    "gdal.RasterizeLayer(target_ds, [1], source_layer, burn_values=[1])\n",
    "\n",
    "# Read as array\n",
    "array = band.ReadAsArray()\n",
    "\n",
    "raster = gdal.Open('temp.tif')\n",
    "geotransform = raster.GetGeoTransform()"
   ]
  },
  {
   "cell_type": "code",
   "execution_count": 25,
   "metadata": {},
   "outputs": [
    {
     "data": {
      "text/plain": [
       "array([[255, 255, 255, ..., 255, 255, 255],\n",
       "       [255, 255, 255, ..., 255, 255, 255],\n",
       "       [255, 255, 255, ..., 255, 255, 255],\n",
       "       ...,\n",
       "       [255, 255, 255, ..., 255, 255, 255],\n",
       "       [255, 255, 255, ..., 255, 255, 255],\n",
       "       [255, 255, 255, ..., 255, 255, 255]], dtype=uint8)"
      ]
     },
     "execution_count": 25,
     "metadata": {},
     "output_type": "execute_result"
    }
   ],
   "source": [
    "array"
   ]
  },
  {
   "cell_type": "code",
   "execution_count": 34,
   "metadata": {},
   "outputs": [],
   "source": [
    "# Convert array to point coordinates\n",
    "count = 0\n",
    "roadList = np.where(array == 1)\n",
    "multipoint = ogr.Geometry(ogr.wkbMultiPoint)\n",
    "for indexY in roadList[0]:\n",
    "    indexX = roadList[1][count]\n",
    "    geotransform = raster.GetGeoTransform()\n",
    "    originX = geotransform[0]\n",
    "    originY = geotransform[3]\n",
    "    pixelWidth = geotransform[1]\n",
    "    pixelHeight = geotransform[5]\n",
    "    Xcoord = originX+pixelWidth*indexX\n",
    "    Ycoord = originY+pixelHeight*indexY\n",
    "    point = ogr.Geometry(ogr.wkbPoint)\n",
    "    point.AddPoint(Xcoord, Ycoord)\n",
    "    multipoint.AddGeometry(point)\n",
    "    count += 1"
   ]
  },
  {
   "cell_type": "code",
   "execution_count": 36,
   "metadata": {},
   "outputs": [
    {
     "data": {
      "text/plain": [
       "(array([ 0,  0,  0,  0,  0,  0,  0,  0,  0,  1,  1,  1,  1,  1,  1,  1,  1,\n",
       "         1,  1,  1,  1,  1,  1,  1,  1,  1,  1,  2,  2,  2,  2,  2,  2,  2,\n",
       "         2,  2,  2,  2,  2,  3,  3,  3,  3,  3,  3,  3,  3,  3,  4,  4,  4,\n",
       "         4,  4,  5,  5,  5,  5,  6,  6,  6,  6,  7,  7,  7,  7,  8,  8,  8,\n",
       "         8,  9,  9,  9,  9, 10, 10, 10, 10, 11, 11, 11, 12, 12, 12, 12, 13,\n",
       "        13, 13, 14, 14, 14, 14, 15, 15, 15, 16, 16, 16, 16, 17, 17, 17, 18,\n",
       "        18, 18, 19, 19, 19, 19, 20, 20, 20, 20, 21, 21, 21, 22, 22, 22, 22,\n",
       "        23, 23, 23, 24, 24, 24, 25, 25, 25, 25, 26, 26, 26, 26, 27, 27, 27,\n",
       "        28, 28, 29, 29, 30, 30, 30, 31, 31, 31, 31, 32, 32, 32, 32, 33, 33,\n",
       "        34, 34, 34, 35, 35, 35, 36, 36, 36, 37, 37, 37, 37, 38, 38, 38, 38,\n",
       "        39, 39, 39, 39, 40, 40, 40, 40, 41, 41, 41, 41, 42, 42, 42, 42, 42,\n",
       "        43, 43, 43, 43, 43, 44, 44, 44, 44, 44, 44, 44, 45, 45, 45, 45, 45,\n",
       "        45, 45, 46, 46, 46, 46, 46, 46, 46, 46, 46, 46, 47, 47, 47, 47, 47,\n",
       "        47, 47, 47, 47, 47, 47, 47, 47, 47, 47, 48, 48, 48, 48, 48, 48, 48,\n",
       "        48], dtype=int64),\n",
       " array([14, 15, 16, 17, 18, 19, 20, 21, 22, 12, 13, 14, 15, 16, 17, 18, 19,\n",
       "        20, 21, 22, 23, 24, 25, 26, 27, 28, 29, 10, 11, 12, 13, 27, 28, 29,\n",
       "        30, 31, 32, 33, 34,  8,  9, 10, 11, 32, 33, 34, 35, 36,  7,  8,  9,\n",
       "        36, 37,  6,  7, 37, 38,  6, 37, 38, 39,  5,  6, 38, 39,  5,  6, 39,\n",
       "        40,  4,  5, 40, 41,  4,  5, 41, 42,  4, 42, 43,  3,  4, 43, 44,  3,\n",
       "        43, 44,  2,  3, 44, 45,  2, 45, 46,  1,  2, 45, 46,  1, 46, 47,  0,\n",
       "         1, 47,  0,  1, 47, 48,  0,  1, 48, 49,  0,  1, 49,  0,  1, 49, 50,\n",
       "         1, 49, 50,  1, 49, 50,  1,  2, 49, 50,  1,  2, 49, 50,  1,  2, 49,\n",
       "         2, 49,  2, 49,  2, 48, 49,  2,  3, 48, 49,  3,  4, 48, 49,  4, 48,\n",
       "         4,  5, 48,  5,  6, 48,  6, 47, 48,  6,  7, 46, 47,  7,  8, 45, 46,\n",
       "         8,  9, 44, 45,  8,  9, 43, 44,  9, 10, 42, 43, 10, 11, 40, 41, 42,\n",
       "        11, 38, 39, 40, 41, 11, 12, 13, 36, 37, 38, 39, 13, 14, 15, 34, 35,\n",
       "        36, 37, 15, 16, 17, 18, 30, 31, 32, 33, 34, 35, 17, 18, 19, 20, 22,\n",
       "        23, 24, 25, 26, 27, 28, 29, 30, 31, 32, 19, 20, 21, 22, 23, 24, 25,\n",
       "        26], dtype=int64))"
      ]
     },
     "execution_count": 36,
     "metadata": {},
     "output_type": "execute_result"
    }
   ],
   "source": [
    "roadList"
   ]
  },
  {
   "cell_type": "code",
   "execution_count": 51,
   "metadata": {},
   "outputs": [],
   "source": [
    "# Write point coordinates to Shapefile\n",
    "shpDriver = ogr.GetDriverByName(\"ESRI Shapefile\")\n",
    "if os.path.exists('points.shp'):\n",
    "    shpDriver.DeleteDataSource('points.shp')\n",
    "outDataSource = shpDriver.CreateDataSource('points.shp')"
   ]
  },
  {
   "cell_type": "code",
   "execution_count": 52,
   "metadata": {},
   "outputs": [
    {
     "name": "stdout",
     "output_type": "stream",
     "text": [
      "<bound method Feature.geometry of <osgeo.ogr.Feature; proxy of <Swig Object of type 'OGRFeatureShadow *' at 0x00000000068A5090> >>\n"
     ]
    }
   ],
   "source": [
    "\n",
    "outLayer = outDataSource.CreateLayer('points.shp', geom_type=ogr.wkbPoint)\n",
    "featureDefn = outLayer.GetLayerDefn()\n",
    "outFeature = ogr.Feature(featureDefn)\n",
    "outFeature.SetGeometry(multipoint)\n",
    "outLayer.CreateFeature(outFeature)\n",
    "\n",
    "\n"
   ]
  },
  {
   "cell_type": "code",
   "execution_count": null,
   "metadata": {},
   "outputs": [],
   "source": [
    "PRINY\n",
    "outFeature = None"
   ]
  },
  {
   "cell_type": "code",
   "execution_count": 49,
   "metadata": {},
   "outputs": [
    {
     "data": {
      "text/plain": [
       "3"
      ]
     },
     "execution_count": 49,
     "metadata": {},
     "output_type": "execute_result"
    }
   ],
   "source": [
    "tiff_driver = gdal.GetDriverByName('GTiff')\n",
    "tiff_driver.Delete('temp.tif')"
   ]
  },
  {
   "cell_type": "code",
   "execution_count": 32,
   "metadata": {},
   "outputs": [
    {
     "name": "stdout",
     "output_type": "stream",
     "text": [
      "0\n"
     ]
    }
   ],
   "source": [
    "print(outLayer.GetFeatureCount())"
   ]
  },
  {
   "cell_type": "code",
   "execution_count": null,
   "metadata": {},
   "outputs": [],
   "source": []
  },
  {
   "cell_type": "code",
   "execution_count": null,
   "metadata": {},
   "outputs": [],
   "source": []
  }
 ],
 "metadata": {
  "kernelspec": {
   "display_name": "Python 3",
   "language": "python",
   "name": "python3"
  },
  "language_info": {
   "codemirror_mode": {
    "name": "ipython",
    "version": 3
   },
   "file_extension": ".py",
   "mimetype": "text/x-python",
   "name": "python",
   "nbconvert_exporter": "python",
   "pygments_lexer": "ipython3",
   "version": "3.7.4"
  }
 },
 "nbformat": 4,
 "nbformat_minor": 2
}
