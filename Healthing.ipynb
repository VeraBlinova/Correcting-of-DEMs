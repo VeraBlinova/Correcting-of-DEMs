{
 "cells": [
  {
   "cell_type": "code",
   "execution_count": 88,
   "metadata": {},
   "outputs": [],
   "source": [
    "import numpy as np\n",
    "import gdal\n",
    "import ogr\n",
    "import os\n",
    "\n",
    "#отображение в jupyter notebook\n",
    "import geopandas as gps\n",
    "import shapefile as shp\n",
    "import matplotlib.pyplot as plt\n",
    "import rasterio\n",
    "import rasterio.plot\n"
   ]
  },
  {
   "cell_type": "code",
   "execution_count": 135,
   "metadata": {},
   "outputs": [],
   "source": [
    "def clear_dir( path ):\n",
    "    filelist = [ f for f in os.listdir(path) if not( f.endswith(\".ipynb_checkpoints\") )]\n",
    "    for f in filelist:\n",
    "        os.remove(os.path.join(path, f))\n",
    "    return"
   ]
  },
  {
   "cell_type": "code",
   "execution_count": 91,
   "metadata": {},
   "outputs": [],
   "source": [
    "drv = ogr.GetDriverByName( \"ESRI Shapefile\" )"
   ]
  },
  {
   "cell_type": "code",
   "execution_count": 142,
   "metadata": {},
   "outputs": [],
   "source": [
    "dem = gdal.Open(\"DEM/Test_2m_polar.dat\")\n",
    "dem_h = gdal.Open(\"DEM/Test_20121107_2m_polar.dat\").ReadAsArray()"
   ]
  },
  {
   "cell_type": "code",
   "execution_count": 1,
   "metadata": {},
   "outputs": [
    {
     "ename": "NameError",
     "evalue": "name 'ogr' is not defined",
     "output_type": "error",
     "traceback": [
      "\u001b[1;31m---------------------------------------------------------------------------\u001b[0m",
      "\u001b[1;31mNameError\u001b[0m                                 Traceback (most recent call last)",
      "\u001b[1;32m<ipython-input-1-e4b6b9a48892>\u001b[0m in \u001b[0;36m<module>\u001b[1;34m\u001b[0m\n\u001b[1;32m----> 1\u001b[1;33m \u001b[0mvec\u001b[0m \u001b[1;33m=\u001b[0m \u001b[0mogr\u001b[0m\u001b[1;33m.\u001b[0m\u001b[0mOpen\u001b[0m\u001b[1;33m(\u001b[0m\u001b[1;34m\"Holes\\Holes.shp\"\u001b[0m\u001b[1;33m)\u001b[0m\u001b[1;33m\u001b[0m\u001b[1;33m\u001b[0m\u001b[0m\n\u001b[0m\u001b[0;32m      2\u001b[0m \u001b[0mlayer\u001b[0m \u001b[1;33m=\u001b[0m \u001b[0mvec\u001b[0m\u001b[1;33m.\u001b[0m\u001b[0mGetLayer\u001b[0m\u001b[1;33m(\u001b[0m\u001b[1;36m0\u001b[0m\u001b[1;33m)\u001b[0m\u001b[1;33m\u001b[0m\u001b[1;33m\u001b[0m\u001b[0m\n\u001b[0;32m      3\u001b[0m \u001b[1;32mif\u001b[0m \u001b[0mlayer\u001b[0m\u001b[1;33m.\u001b[0m\u001b[0mGetFeatureCount\u001b[0m\u001b[1;33m(\u001b[0m\u001b[1;33m)\u001b[0m \u001b[1;33m<=\u001b[0m \u001b[1;36m0\u001b[0m\u001b[1;33m:\u001b[0m\u001b[1;33m\u001b[0m\u001b[1;33m\u001b[0m\u001b[0m\n\u001b[0;32m      4\u001b[0m     \u001b[0msys\u001b[0m\u001b[1;33m.\u001b[0m\u001b[0mexit\u001b[0m\u001b[1;33m(\u001b[0m\u001b[1;36m1\u001b[0m\u001b[1;33m)\u001b[0m\u001b[1;33m\u001b[0m\u001b[1;33m\u001b[0m\u001b[0m\n\u001b[0;32m      5\u001b[0m \u001b[1;33m\u001b[0m\u001b[0m\n",
      "\u001b[1;31mNameError\u001b[0m: name 'ogr' is not defined"
     ]
    }
   ],
   "source": [
    "vec = ogr.Open(\"Holes\\Holes.shp\")\n",
    "layer = vec.GetLayer(0)\n",
    "if layer.GetFeatureCount() <= 0:\n",
    "    sys.exit(1)\n",
    "\n",
    "clear_dir(\"saves\")\n",
    "\n",
    "#init\n",
    "feat = layer.GetNextFeature()\n",
    "\n",
    "while feat is not None:\n",
    "    geom = feat.GetGeometryRef()\n",
    "    ogrData = drv.CreateDataSource(\"saves/buf_\"+ str(feat.GetFID())+\".shp\")\n",
    "    out = ogrData.CreateLayer( \"buffer_points\", None, ogr.wkbPoint )\n",
    "    new_feat = ogr.Feature(out.GetLayerDefn())\n",
    "    buf_geom = geom.Buffer(1.5, 0).Difference(geom) #create buffer's geometry\n",
    "    \n",
    "    new_feat.SetGeometry(buf_geom) \n",
    "    out.CreateFeature(new_feat)\n",
    "    feat = layer.GetNextFeature()\n",
    "    ogrData.Destroy()\n",
    "    "
   ]
  },
  {
   "cell_type": "markdown",
   "metadata": {},
   "source": [
    "# Отображение в notebook"
   ]
  },
  {
   "cell_type": "code",
   "execution_count": 37,
   "metadata": {},
   "outputs": [
    {
     "name": "stdout",
     "output_type": "stream",
     "text": [
      "<osgeo.ogr.Driver; proxy of <Swig Object of type 'OGRDriverShadow *' at 0x000000000ADEE660> >\n"
     ]
    }
   ],
   "source": [
    "\n",
    "raster = rasterio.open(\"DEM/Test_2m_polar.dat\")\n",
    "holes = shp.Reader('Holes/Holes.shp')\n",
    "\n",
    "fig, ax = plt.subplots(figsize=(10, 10))\n",
    "rasterio.plot.show(raster, cmap='Greys_r', ax=ax)\n",
    "for shape in holes.shapeRecords():\n",
    "    x = [i[0] for i in shape.shape.points[:]]\n",
    "    y = [i[1] for i in shape.shape.points[:]]\n",
    "    plt.plot(x,y, color='red')"
   ]
  },
  {
   "cell_type": "code",
   "execution_count": null,
   "metadata": {},
   "outputs": [],
   "source": []
  },
  {
   "cell_type": "code",
   "execution_count": null,
   "metadata": {},
   "outputs": [],
   "source": []
  }
 ],
 "metadata": {
  "kernelspec": {
   "display_name": "Python 3",
   "language": "python",
   "name": "python3"
  },
  "language_info": {
   "codemirror_mode": {
    "name": "ipython",
    "version": 3
   },
   "file_extension": ".py",
   "mimetype": "text/x-python",
   "name": "python",
   "nbconvert_exporter": "python",
   "pygments_lexer": "ipython3",
   "version": "3.7.4"
  }
 },
 "nbformat": 4,
 "nbformat_minor": 2
}
